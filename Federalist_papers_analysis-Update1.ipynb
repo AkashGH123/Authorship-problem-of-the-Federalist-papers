{
 "cells": [
  {
   "cell_type": "markdown",
   "metadata": {},
   "source": [
    "# Import Packages for the script"
   ]
  },
  {
   "cell_type": "code",
   "execution_count": 1,
   "metadata": {
    "collapsed": true
   },
   "outputs": [],
   "source": [
    "import json\n",
    "import requests\n",
    "import os\n",
    "import urllib.request\n",
    "import pandas as pd\n",
    "import numpy as np\n",
    "pd.options.mode.chained_assignment = None  # default='warn'\n"
   ]
  },
  {
   "cell_type": "markdown",
   "metadata": {},
   "source": [
    "# Extract JSON response over  HTTP"
   ]
  },
  {
   "cell_type": "code",
   "execution_count": 2,
   "metadata": {
    "collapsed": true
   },
   "outputs": [],
   "source": [
    "url=\"http://ptrckprry.com/course/ssd/data/federalist.json\"\n",
    "with urllib.request.urlopen(url) as response:\n",
    "    k = response.read()"
   ]
  },
  {
   "cell_type": "markdown",
   "metadata": {
    "collapsed": true
   },
   "source": [
    "# Convert all text to lower case making it case insensitive for the script"
   ]
  },
  {
   "cell_type": "code",
   "execution_count": 3,
   "metadata": {
    "collapsed": true
   },
   "outputs": [],
   "source": [
    "k=str(k)\n",
    "a=k.lower()"
   ]
  },
  {
   "cell_type": "markdown",
   "metadata": {
    "collapsed": true
   },
   "source": [
    "# Replace symbols in json for characters like backslash,single quotes"
   ]
  },
  {
   "cell_type": "code",
   "execution_count": 4,
   "metadata": {
    "collapsed": true
   },
   "outputs": [],
   "source": [
    "k=k.replace(\"\\\\\\\\n\",\" \").replace(\"\\\\\\'\",\"'\").replace(\"b\\'\",\"\")"
   ]
  },
  {
   "cell_type": "code",
   "execution_count": 5,
   "metadata": {
    "collapsed": true
   },
   "outputs": [],
   "source": [
    "#a=a.replace(\"\\\\\\\\n\",\" \").replace(\"\\\\\\'\",\"'\").replace(\"b\\'\",\"\")"
   ]
  },
  {
   "cell_type": "code",
   "execution_count": 6,
   "metadata": {
    "collapsed": true
   },
   "outputs": [],
   "source": [
    "l=[]\n",
    "dictlist=[]\n",
    "\n",
    "z=k.split(\"\\\\n\")\n",
    "\n",
    "del z[-1]"
   ]
  },
  {
   "cell_type": "markdown",
   "metadata": {},
   "source": [
    "# Convert JSON response to clean dictionary"
   ]
  },
  {
   "cell_type": "code",
   "execution_count": 7,
   "metadata": {
    "collapsed": true
   },
   "outputs": [],
   "source": [
    "for i in range(0,len(z)):\n",
    "    try:\n",
    "        dictlist.append(json.loads(z[i]))\n",
    "    except:\n",
    "        try:\n",
    "            d=z[i]\n",
    "            #d=d.replace('\\\\\\\\*','\"').replace('*','\"')\n",
    "            ftext=d[d.find('\"text\": \"')+9:d.find('\", \"date\":')]#.replace('\"','*')\n",
    "            fauthor=d[d.find('\"author\": ')+11:d.find('\", \"text\":')]\n",
    "            fdate=d[d.find('\"date\": ')+8:d.find('\", \"title\": ')]\n",
    "            ftitle=d[d.find('\"title\": ')+10:d.find('\", \"paper_id\": ')]\n",
    "            fpaperid=d[d.find('\"paper_id\": ')+12:d.find(', \"venue\": ')]\n",
    "            fvenue=d[d.find('\"venue\": ')+10:d.find('\"}')]\n",
    "            emptydict={}\n",
    "            emptydict['author']=fauthor\n",
    "            emptydict['text']=ftext\n",
    "            emptydict['date']=fdate\n",
    "            emptydict['title']=ftitle\n",
    "            emptydict['paper_id']=fpaperid\n",
    "            emptydict['venue']=fvenue\n",
    "            #emptydict=str(emptydict)\n",
    "            dictlist.append(emptydict)\n",
    "            #l.append(i)\n",
    "        except:\n",
    "            l.append(i)"
   ]
  },
  {
   "cell_type": "markdown",
   "metadata": {},
   "source": [
    "# Add all json response in pandas dataframe and create a total wordcount for each essay"
   ]
  },
  {
   "cell_type": "code",
   "execution_count": 8,
   "metadata": {
    "collapsed": true
   },
   "outputs": [],
   "source": [
    "#dictlist[1]\n",
    "from collections import Counter\n",
    "\n",
    "df=pd.DataFrame(columns=['paper_id','text','date','title','author','venue','wordcount'])\n",
    "\n",
    "df['total_words']=0\n",
    "\n",
    "#df['text']=df['text'].replace('\\\\\\\\\"','\"')\n",
    "\n",
    "for i in range(0,len(dictlist)):\n",
    "    text=dictlist[i]['text'].lower().replace(\"'\",\" \").replace(\"!\",\" \").replace(\"?\",\" \").replace(\",\",\" \").replace(\":\",\" \").replace(\";\",\" \").replace(\"   \",\" \").replace(\"  \",\" \").replace('\\\\\\\\\"','\"')\n",
    "    words =text.split()\n",
    "    wordcount = Counter(words)\n",
    "    df = df.append({\"paper_id\":dictlist[i]['paper_id'],\n",
    "    \"text\": text,\n",
    "    \"date\":dictlist[i]['date'],\"title\":dictlist[i]['title'],\"author\":dictlist[i]['author'],\"venue\":dictlist[i]['venue'],\"wordcount\":wordcount}, ignore_index=True)\n",
    "\n",
    "for i in range(0,len(df)):\n",
    "    #df['text'].iloc[i]=df['text'].iloc[i].replace('\\\\\\\\\"','\"')\n",
    "    #df['text'].iloc[i]=df['text'].iloc[i].replace(\"'\",\" \").replace(\"!\",\" \").replace(\"?\",\" \").replace(\",\",\" \").replace(\":\",\" \").replace(\";\",\" \").replace(\"   \",\" \").replace(\"  \",\" \")\n",
    "    #df['text'].iloc[i]=df['text'].iloc[i].lower()\n",
    "    df['total_words'].iloc[i]=len(df['text'].iloc[i].split(\" \"))\n",
    "    try:\n",
    "        if df['date'].iloc[i].find(\"null\") != -1:\n",
    "            df['date'].iloc[i]=\"null\"\n",
    "        else:\n",
    "            continue\n",
    "    except:\n",
    "        df['date'].iloc[i]=\"null\""
   ]
  },
  {
   "cell_type": "code",
   "execution_count": null,
   "metadata": {
    "collapsed": true
   },
   "outputs": [],
   "source": []
  },
  {
   "cell_type": "markdown",
   "metadata": {
    "collapsed": true
   },
   "source": [
    "# Create Bar graphs and histograms of custom size"
   ]
  },
  {
   "cell_type": "code",
   "execution_count": 9,
   "metadata": {},
   "outputs": [
    {
     "name": "stdout",
     "output_type": "stream",
     "text": [
      "Current size: [28, 9]\n"
     ]
    }
   ],
   "source": [
    "import matplotlib.pyplot as plt; #plt.rcdefaults()\n",
    "import numpy as np\n",
    "import matplotlib.pyplot as plt\n",
    "%matplotlib inline\n",
    "\n",
    "fig_size = plt.rcParams[\"figure.figsize\"]\n",
    " \n",
    "# Prints: [8.0, 6.0]\n",
    "#print(\"Current size:\", fig_size)\n",
    "# Set figure width to 12 and height to 9\n",
    "fig_size[0] = 28\n",
    "fig_size[1] = 9\n",
    "plt.rcParams[\"figure.figsize\"] = fig_size\n",
    "print(\"Current size:\", fig_size)\n",
    " \n"
   ]
  },
  {
   "cell_type": "code",
   "execution_count": 10,
   "metadata": {},
   "outputs": [
    {
     "data": {
      "image/png": "[encoded data removed]",
      "text/plain": [
       "<matplotlib.figure.Figure at 0x21cd94f24a8>"
      ]
     },
     "metadata": {},
     "output_type": "display_data"
    }
   ],
   "source": [
    "fig, ax = plt.subplots()"
   ]
  },
  {
   "cell_type": "code",
   "execution_count": 11,
   "metadata": {
    "collapsed": true
   },
   "outputs": [],
   "source": [
    "index = np.arange(len(df.total_words.tolist()))\n",
    "bar_width = 0.2\n",
    "\n",
    "opacity = 0.4\n",
    "error_config = {'ecolor': '0.3'}\n",
    "r1 = ax.bar(index, df.total_words.tolist(), bar_width,\n",
    "                 alpha=opacity,\n",
    "                 color='b',\n",
    "\n",
    "                 error_kw=error_config)"
   ]
  },
  {
   "cell_type": "code",
   "execution_count": 12,
   "metadata": {},
   "outputs": [
    {
     "ename": "NameError",
     "evalue": "name 'ax1' is not defined",
     "output_type": "error",
     "traceback": [
      "\u001b[1;31m---------------------------------------------------------------------------\u001b[0m",
      "\u001b[1;31mNameError\u001b[0m                                 Traceback (most recent call last)",
      "\u001b[1;32m<ipython-input-12-64508cfeda68>\u001b[0m in \u001b[0;36m<module>\u001b[1;34m()\u001b[0m\n\u001b[0;32m     37\u001b[0m \u001b[1;31m#f, ((ax1, ax2)) = plt.subplots(1, 1, sharex='col', sharey='row')\u001b[0m\u001b[1;33m\u001b[0m\u001b[1;33m\u001b[0m\u001b[0m\n\u001b[0;32m     38\u001b[0m \u001b[1;33m\u001b[0m\u001b[0m\n\u001b[1;32m---> 39\u001b[1;33m \u001b[0max1\u001b[0m\u001b[1;33m.\u001b[0m\u001b[0mplot\u001b[0m\u001b[1;33m(\u001b[0m\u001b[0mx1\u001b[0m\u001b[1;33m,\u001b[0m\u001b[0mm1\u001b[0m\u001b[1;33m)\u001b[0m\u001b[1;33m\u001b[0m\u001b[0m\n\u001b[0m\u001b[0;32m     40\u001b[0m \u001b[0max2\u001b[0m\u001b[1;33m.\u001b[0m\u001b[0mplot\u001b[0m\u001b[1;33m(\u001b[0m\u001b[0mx2\u001b[0m\u001b[1;33m,\u001b[0m\u001b[0mm2\u001b[0m\u001b[1;33m)\u001b[0m\u001b[1;33m\u001b[0m\u001b[0m\n\u001b[0;32m     41\u001b[0m \u001b[1;33m\u001b[0m\u001b[0m\n",
      "\u001b[1;31mNameError\u001b[0m: name 'ax1' is not defined"
     ]
    },
    {
     "data": {
      "image/png": "[encoded data removed]",
      "text/plain": [
       "<matplotlib.figure.Figure at 0x21cdd47f358>"
      ]
     },
     "metadata": {},
     "output_type": "display_data"
    }
   ],
   "source": [
    "fig, ax = plt.subplots()\n",
    "n1= len(df[df['author'] == 'HAMILTON'])\n",
    "n2=len(df[df['author'] == 'MADISON'])\n",
    "\n",
    "#m1 = (0.10,0.12,0.10,0.11,0.14,0.10)\n",
    "#m2=(0.21,0.21,0.20,0.22,0.20,0.21)\n",
    "#m3=(0.29,0.27,0.28,0.24,0.23,0.23)\n",
    "#m4=(0.41,0.39,0.35,0.37,0.41,0.40)\n",
    "m1=tuple(df[df['author'] == 'HAMILTON'].total_words.tolist())\n",
    "m2=tuple(df[df['author'] == 'MADISON'].total_words.tolist())\n",
    "x1=range(len(df[df['author'] == 'HAMILTON']))\n",
    "x2=range(len(df[df['author'] == 'MADISON']))\n",
    "\n",
    "index1 = np.arange(n1)\n",
    "index2 = np.arange(n2)\n",
    "\n",
    "bar_width = 0.5\n",
    "\n",
    "opacity = 0.4\n",
    "error_config = {'ecolor': '0.3'}\n",
    "r1 = ax.bar(index1, m1, bar_width,\n",
    "                 alpha=opacity,\n",
    "                 color='b',\n",
    "\n",
    "                 error_kw=error_config)\n",
    "\n",
    "r2 = ax.bar(index2 + bar_width, m2, bar_width,\n",
    "                 alpha=opacity,\n",
    "                 color='#F9979F',\n",
    "\n",
    "                 error_kw=error_config)\n",
    "                \n",
    "plt.xlabel('D')\n",
    "plt.ylabel('Anz')\n",
    "plt.title('Th')\n",
    "\n",
    "#f, ((ax1, ax2)) = plt.subplots(1, 1, sharex='col', sharey='row')\n",
    "\n",
    "ax1.plot(x1,m1)\n",
    "ax2.plot(x2,m2)\n",
    "\n",
    "plt.tight_layout()\n",
    "plt.show()"
   ]
  },
  {
   "cell_type": "code",
   "execution_count": null,
   "metadata": {
    "collapsed": true
   },
   "outputs": [],
   "source": []
  },
  {
   "cell_type": "code",
   "execution_count": null,
   "metadata": {
    "collapsed": true
   },
   "outputs": [],
   "source": []
  },
  {
   "cell_type": "code",
   "execution_count": null,
   "metadata": {
    "collapsed": true
   },
   "outputs": [],
   "source": []
  },
  {
   "cell_type": "code",
   "execution_count": null,
   "metadata": {
    "collapsed": true
   },
   "outputs": [],
   "source": []
  },
  {
   "cell_type": "code",
   "execution_count": null,
   "metadata": {
    "collapsed": true
   },
   "outputs": [],
   "source": []
  },
  {
   "cell_type": "code",
   "execution_count": null,
   "metadata": {
    "collapsed": true
   },
   "outputs": [],
   "source": []
  },
  {
   "cell_type": "code",
   "execution_count": 13,
   "metadata": {},
   "outputs": [
    {
     "data": {
      "text/plain": [
       "(1618.0,\n",
       " 2054.0,\n",
       " 2310.0,\n",
       " 2062.0,\n",
       " 1999.0,\n",
       " 2506.0,\n",
       " 2166.0,\n",
       " 968.0,\n",
       " 3091.0,\n",
       " 2043.0,\n",
       " 1575.0,\n",
       " 2003.0,\n",
       " 3562.0,\n",
       " 1806.0,\n",
       " 2010.0,\n",
       " 1993.0,\n",
       " 2391.0,\n",
       " 1459.0,\n",
       " 1608.0,\n",
       " 2241.0,\n",
       " 1974.0,\n",
       " 1739.0,\n",
       " 1493.0,\n",
       " 1695.0,\n",
       " 2220.0,\n",
       " 2259.0,\n",
       " 2744.0,\n",
       " 1921.0,\n",
       " 2258.0,\n",
       " 1526.0,\n",
       " 2025.0,\n",
       " 2271.0,\n",
       " 1661.0,\n",
       " 1513.0,\n",
       " 2996.0,\n",
       " 3119.0,\n",
       " 1752.0,\n",
       " 2046.0,\n",
       " 2373.0,\n",
       " 1006.0,\n",
       " 1949.0,\n",
       " 2307.0,\n",
       " 1980.0,\n",
       " 3072.0,\n",
       " 1044.0,\n",
       " 2463.0,\n",
       " 3929.0,\n",
       " 1554.0,\n",
       " 5846.0,\n",
       " 4209.0,\n",
       " 2723.0)"
      ]
     },
     "execution_count": 13,
     "metadata": {},
     "output_type": "execute_result"
    }
   ],
   "source": [
    "tuple(df[df['author'] == 'HAMILTON'].total_words.tolist())"
   ]
  },
  {
   "cell_type": "code",
   "execution_count": 14,
   "metadata": {},
   "outputs": [
    {
     "data": {
      "image/png": "[encoded data removed]",
      "text/plain": [
       "<matplotlib.figure.Figure at 0x21cdd4d76d8>"
      ]
     },
     "metadata": {},
     "output_type": "display_data"
    }
   ],
   "source": [
    "objects = tuple(df.paper_id.tolist())\n",
    "y_pos = np.arange(len(objects))\n",
    "performance = df.total_words.tolist()\n",
    " \n",
    "plt.bar(y_pos, performance, align='center', alpha=0.5)\n",
    "plt.xticks(y_pos, objects)\n",
    "plt.ylabel('Number of words')\n",
    "plt.title('Word Counts in all the federalist papers')\n",
    " \n",
    "plt.show()"
   ]
  },
  {
   "cell_type": "code",
   "execution_count": 15,
   "metadata": {
    "collapsed": true
   },
   "outputs": [],
   "source": [
    "dfhamilton=df[df['author'] == 'HAMILTON']\n",
    "dfmadison=df[df['author'] == 'MADISON']\n",
    "dfjay=df[df['author'] == 'JAY']"
   ]
  },
  {
   "cell_type": "code",
   "execution_count": 16,
   "metadata": {},
   "outputs": [
    {
     "data": {
      "text/plain": [
       "<matplotlib.axes._subplots.AxesSubplot at 0x21cdd4cb518>"
      ]
     },
     "execution_count": 16,
     "metadata": {},
     "output_type": "execute_result"
    },
    {
     "data": {
      "image/png": "[encoded data removed]",
      "text/plain": [
       "<matplotlib.figure.Figure at 0x21cdd4cbf98>"
      ]
     },
     "metadata": {},
     "output_type": "display_data"
    }
   ],
   "source": [
    "plt.figure()\n",
    "plt.subplot(2,1,1)"
   ]
  },
  {
   "cell_type": "code",
   "execution_count": 22,
   "metadata": {},
   "outputs": [
    {
     "data": {
      "text/plain": [
       "Text(0.5,1,'HAMILTON')"
      ]
     },
     "execution_count": 22,
     "metadata": {},
     "output_type": "execute_result"
    },
    {
     "data": {
      "image/png": "[encoded data removed]",
      "text/plain": [
       "<matplotlib.figure.Figure at 0x203a7173588>"
      ]
     },
     "metadata": {},
     "output_type": "display_data"
    }
   ],
   "source": [
    "objects = tuple(dfhamilton.paper_id.tolist())\n",
    "y_pos = np.arange(len(objects))\n",
    "performance = dfhamilton.total_words.tolist()\n",
    " \n",
    "plt.bar(y_pos, performance, align='center', alpha=0.5)\n",
    "plt.xticks(y_pos, objects)\n",
    "plt.ylabel('Number of words in Papers authored by Hamilton')\n",
    "plt.xlabel('The Federalist paper ids')\n",
    "\n",
    "plt.title('HAMILTON')\n",
    " \n",
    "#plt.show()"
   ]
  },
  {
   "cell_type": "code",
   "execution_count": 23,
   "metadata": {},
   "outputs": [
    {
     "data": {
      "text/plain": [
       "<matplotlib.axes._subplots.AxesSubplot at 0x203a6b56c18>"
      ]
     },
     "execution_count": 23,
     "metadata": {},
     "output_type": "execute_result"
    },
    {
     "data": {
      "image/png": "[encoded data removed]",
      "text/plain": [
       "<matplotlib.figure.Figure at 0x203a2b91630>"
      ]
     },
     "metadata": {},
     "output_type": "display_data"
    }
   ],
   "source": [
    "plt.subplot(2,1,2)"
   ]
  },
  {
   "cell_type": "code",
   "execution_count": 24,
   "metadata": {},
   "outputs": [
    {
     "data": {
      "text/plain": [
       "Text(0.5,1,'MADISON')"
      ]
     },
     "execution_count": 24,
     "metadata": {},
     "output_type": "execute_result"
    },
    {
     "data": {
      "image/png": "[encoded data removed]",
      "text/plain": [
       "<matplotlib.figure.Figure at 0x203a70ba668>"
      ]
     },
     "metadata": {},
     "output_type": "display_data"
    }
   ],
   "source": [
    "objects = tuple(dfmadison.paper_id.tolist())\n",
    "y_pos = np.arange(len(objects))\n",
    "performance = dfmadison.total_words.tolist()\n",
    "plt.bar(y_pos, performance, align='center', alpha=0.5)\n",
    "plt.xticks(y_pos, objects)\n",
    "\n",
    "plt.ylabel('Number of words in Papers authored by Madison')\n",
    "plt.xlabel('The Federalist paper ids')\n",
    "\n",
    "plt.title('MADISON')\n",
    " \n",
    "\n",
    " \n",
    "#plt.show()"
   ]
  },
  {
   "cell_type": "code",
   "execution_count": null,
   "metadata": {
    "collapsed": true
   },
   "outputs": [],
   "source": []
  },
  {
   "cell_type": "code",
   "execution_count": 25,
   "metadata": {},
   "outputs": [
    {
     "data": {
      "text/plain": [
       "Text(0.5,1,'JAY')"
      ]
     },
     "execution_count": 25,
     "metadata": {},
     "output_type": "execute_result"
    },
    {
     "data": {
      "image/png": "[encoded data removed]",
      "text/plain": [
       "<matplotlib.figure.Figure at 0x203a495f080>"
      ]
     },
     "metadata": {},
     "output_type": "display_data"
    }
   ],
   "source": [
    "objects = tuple(dfjay.paper_id.tolist())\n",
    "y_pos = np.arange(len(objects))\n",
    "performance = dfjay.total_words.tolist()\n",
    " \n",
    "plt.bar(y_pos, performance, align='center', alpha=0.5)\n",
    "plt.xticks(y_pos, objects)\n",
    "plt.ylabel('Number of words in Papers authored by Jay')\n",
    "plt.xlabel('The Federalist paper ids')\n",
    "plt.title('JAY')\n",
    " \n",
    "#plt.show()"
   ]
  },
  {
   "cell_type": "code",
   "execution_count": null,
   "metadata": {
    "collapsed": true
   },
   "outputs": [],
   "source": []
  },
  {
   "cell_type": "code",
   "execution_count": 26,
   "metadata": {
    "collapsed": true
   },
   "outputs": [],
   "source": [
    "dfmadison['number_of_sentences']=0\n",
    "dfhamilton['number_of_sentences']=0\n",
    "dfjay['number_of_sentences']=0\n",
    "dfmadison['Words_per_sentence_avg']=0\n",
    "dfhamilton['Words_per_sentence_avg']=0\n",
    "dfjay['Words_per_sentence_avg']=0\n",
    "\n",
    "for i in range(0,len(dfmadison)):\n",
    "    dfmadison['number_of_sentences'].iloc[i]=len(dfmadison['text'].iloc[i].split(\".\"))\n",
    "    dfmadison['Words_per_sentence_avg'].iloc[i]=dfmadison['total_words'].iloc[i]/dfmadison['number_of_sentences'].iloc[i]\n",
    "    \n",
    "for i in range(0,len(dfhamilton)):\n",
    "    dfhamilton['number_of_sentences'].iloc[i]=len(dfhamilton['text'].iloc[i].split(\".\"))\n",
    "    dfhamilton['Words_per_sentence_avg'].iloc[i]=dfhamilton['total_words'].iloc[i]/dfhamilton['number_of_sentences'].iloc[i]\n",
    "for i in range(0,len(dfjay)):\n",
    "    dfjay['number_of_sentences'].iloc[i]=len(dfjay['text'].iloc[i].split(\".\"))\n",
    "    dfjay['Words_per_sentence_avg'].iloc[i]=dfjay['total_words'].iloc[i]/dfjay['number_of_sentences'].iloc[i]"
   ]
  },
  {
   "cell_type": "code",
   "execution_count": 27,
   "metadata": {
    "collapsed": true
   },
   "outputs": [],
   "source": [
    "#dfhamilton"
   ]
  },
  {
   "cell_type": "code",
   "execution_count": 28,
   "metadata": {},
   "outputs": [
    {
     "data": {
      "image/png": "[encoded data removed]",
      "text/plain": [
       "<matplotlib.figure.Figure at 0x203a6b3d7b8>"
      ]
     },
     "metadata": {},
     "output_type": "display_data"
    }
   ],
   "source": [
    "objects = tuple(dfmadison.paper_id.tolist())\n",
    "y_pos = np.arange(len(objects))\n",
    "performance = dfmadison.Words_per_sentence_avg.tolist()\n",
    " \n",
    "plt.bar(y_pos, performance, align='center', alpha=0.5)\n",
    "plt.xticks(y_pos, objects)\n",
    "plt.ylabel('Words per sentence average in Papers authored by Madison')\n",
    "plt.xlabel('The Federalist paper ids')\n",
    "\n",
    "plt.title('MADISON')\n",
    " \n",
    "plt.show()"
   ]
  },
  {
   "cell_type": "code",
   "execution_count": 29,
   "metadata": {},
   "outputs": [
    {
     "data": {
      "image/png": "[encoded data removed]",
      "text/plain": [
       "<matplotlib.figure.Figure at 0x203a6bb40f0>"
      ]
     },
     "metadata": {},
     "output_type": "display_data"
    }
   ],
   "source": [
    "objects = tuple(dfhamilton.paper_id.tolist())\n",
    "y_pos = np.arange(len(objects))\n",
    "performance = dfhamilton.Words_per_sentence_avg.tolist()\n",
    " \n",
    "plt.bar(y_pos, performance, align='center', alpha=0.5)\n",
    "plt.xticks(y_pos, objects)\n",
    "plt.ylabel('Words per sentence average in Papers authored by Hamilton')\n",
    "plt.xlabel('The Federalist paper ids')\n",
    "\n",
    "plt.title('HAMILTON')\n",
    " \n",
    "plt.show()"
   ]
  },
  {
   "cell_type": "code",
   "execution_count": 30,
   "metadata": {
    "collapsed": true
   },
   "outputs": [],
   "source": [
    "#dfjay.sort_values(['Words_per_sentence_avg'],ascending=1,inplace=True)"
   ]
  },
  {
   "cell_type": "code",
   "execution_count": 31,
   "metadata": {
    "collapsed": true
   },
   "outputs": [],
   "source": [
    "#dfmadison.sort_values(['Words_per_sentence_avg'],ascending=1,inplace=True)\n",
    "#dfhamilton.sort_values(['Words_per_sentence_avg'],ascending=1,inplace=True)"
   ]
  },
  {
   "cell_type": "code",
   "execution_count": 32,
   "metadata": {},
   "outputs": [
    {
     "data": {
      "text/plain": [
       "Text(0.5,1,'Frequency distribution of total words in papers')"
      ]
     },
     "execution_count": 32,
     "metadata": {},
     "output_type": "execute_result"
    },
    {
     "data": {
      "image/png": "[encoded data removed]",
      "text/plain": [
       "<matplotlib.figure.Figure at 0x203a6b96240>"
      ]
     },
     "metadata": {},
     "output_type": "display_data"
    }
   ],
   "source": [
    "%matplotlib inline\n",
    "x = df.total_words.tolist()\n",
    "plt.hist(x, normed=False, bins=50)\n",
    "plt.ylabel('Frequency');\n",
    "plt.title(\"Frequency distribution of total words in papers\")"
   ]
  },
  {
   "cell_type": "code",
   "execution_count": 33,
   "metadata": {},
   "outputs": [
    {
     "data": {
      "text/plain": [
       "Text(0.5,1,'Frequency distribution of words per sentences in papers authored by Hamilton')"
      ]
     },
     "execution_count": 33,
     "metadata": {},
     "output_type": "execute_result"
    },
    {
     "data": {
      "image/png": "[encoded data removed]",
      "text/plain": [
       "<matplotlib.figure.Figure at 0x203a6b96ef0>"
      ]
     },
     "metadata": {},
     "output_type": "display_data"
    }
   ],
   "source": [
    "x = dfhamilton.Words_per_sentence_avg.tolist()\n",
    "plt.hist(x, normed=True, bins=20)\n",
    "plt.ylabel('Frequency');\n",
    "plt.title(\"Frequency distribution of words per sentences in papers authored by Hamilton\")"
   ]
  },
  {
   "cell_type": "code",
   "execution_count": 34,
   "metadata": {},
   "outputs": [
    {
     "data": {
      "text/plain": [
       "Text(0.5,1,'Frequency distribution of words per sentences in papers authored by Madison')"
      ]
     },
     "execution_count": 34,
     "metadata": {},
     "output_type": "execute_result"
    },
    {
     "data": {
      "image/png": "[encoded data removed]",
      "text/plain": [
       "<matplotlib.figure.Figure at 0x203a852c588>"
      ]
     },
     "metadata": {},
     "output_type": "display_data"
    }
   ],
   "source": [
    "x = dfmadison.Words_per_sentence_avg.tolist()\n",
    "plt.hist(x, normed=True, bins=30)\n",
    "plt.ylabel('Frequency');\n",
    "plt.title(\"Frequency distribution of words per sentences in papers authored by Madison\")"
   ]
  },
  {
   "cell_type": "code",
   "execution_count": 35,
   "metadata": {
    "collapsed": true
   },
   "outputs": [],
   "source": [
    "#dfhamilton"
   ]
  },
  {
   "cell_type": "code",
   "execution_count": null,
   "metadata": {
    "collapsed": true
   },
   "outputs": [],
   "source": []
  },
  {
   "cell_type": "code",
   "execution_count": null,
   "metadata": {
    "collapsed": true
   },
   "outputs": [],
   "source": []
  },
  {
   "cell_type": "code",
   "execution_count": 36,
   "metadata": {
    "collapsed": true
   },
   "outputs": [],
   "source": [
    "#dfhamilton.boxplot()\n",
    "#dfhamilton.boxplot(column='total_words')"
   ]
  },
  {
   "cell_type": "code",
   "execution_count": 37,
   "metadata": {
    "collapsed": true
   },
   "outputs": [],
   "source": [
    "#dfmadison[['total_words']].boxplot()\n",
    "#dfmadison.boxplot(column='total_words')"
   ]
  },
  {
   "cell_type": "code",
   "execution_count": 38,
   "metadata": {
    "collapsed": true
   },
   "outputs": [],
   "source": [
    "#dfhamilton.boxplot(column='number_of_sentences')"
   ]
  },
  {
   "cell_type": "code",
   "execution_count": 39,
   "metadata": {
    "collapsed": true
   },
   "outputs": [],
   "source": [
    "#dfhamilton.boxplot(column='Words_per_sentence_avg')"
   ]
  },
  {
   "cell_type": "code",
   "execution_count": 40,
   "metadata": {
    "collapsed": true
   },
   "outputs": [],
   "source": [
    "dfcombine=pd.concat([dfhamilton,dfmadison])"
   ]
  },
  {
   "cell_type": "code",
   "execution_count": 41,
   "metadata": {},
   "outputs": [
    {
     "name": "stderr",
     "output_type": "stream",
     "text": [
      "C:\\Users\\gandh\\Anaconda3\\lib\\site-packages\\numpy\\core\\fromnumeric.py:52: FutureWarning: reshape is deprecated and will raise in a subsequent release. Please use .values.reshape(...) instead\n",
      "  return getattr(obj, method)(*args, **kwds)\n"
     ]
    },
    {
     "data": {
      "text/plain": [
       "Text(0.5,0.98,'')"
      ]
     },
     "execution_count": 41,
     "metadata": {},
     "output_type": "execute_result"
    },
    {
     "data": {
      "image/png": "[encoded data removed]",
      "text/plain": [
       "<matplotlib.figure.Figure at 0x203a8586eb8>"
      ]
     },
     "metadata": {},
     "output_type": "display_data"
    }
   ],
   "source": [
    "ax1=dfcombine.boxplot(column='total_words',by='author',fontsize=20,figsize=(6,6),grid=False,patch_artist=True,showfliers=False, showmeans=True)\n",
    "\n",
    "ax1.set_title('Total Words',fontsize=25)\n",
    "\n",
    "ax1.set_xlabel('Authors',fontsize=20)\n",
    "\n",
    "ax1.set_ylabel('Number of Words',fontsize=20)\n",
    "\n",
    "ax1.patch.set_facecolor('#FFFFFF')\n",
    "\n",
    "ax1.figure.suptitle(\"\")"
   ]
  },
  {
   "cell_type": "code",
   "execution_count": null,
   "metadata": {
    "collapsed": true
   },
   "outputs": [],
   "source": []
  },
  {
   "cell_type": "code",
   "execution_count": null,
   "metadata": {
    "collapsed": true
   },
   "outputs": [],
   "source": []
  },
  {
   "cell_type": "code",
   "execution_count": null,
   "metadata": {
    "collapsed": true
   },
   "outputs": [],
   "source": []
  },
  {
   "cell_type": "code",
   "execution_count": 42,
   "metadata": {},
   "outputs": [
    {
     "name": "stderr",
     "output_type": "stream",
     "text": [
      "C:\\Users\\gandh\\Anaconda3\\lib\\site-packages\\numpy\\core\\fromnumeric.py:52: FutureWarning: reshape is deprecated and will raise in a subsequent release. Please use .values.reshape(...) instead\n",
      "  return getattr(obj, method)(*args, **kwds)\n"
     ]
    },
    {
     "data": {
      "text/plain": [
       "Text(0.5,0.98,'')"
      ]
     },
     "execution_count": 42,
     "metadata": {},
     "output_type": "execute_result"
    },
    {
     "data": {
      "image/png": "[encoded data removed]",
      "text/plain": [
       "<matplotlib.figure.Figure at 0x203a85e3438>"
      ]
     },
     "metadata": {},
     "output_type": "display_data"
    }
   ],
   "source": [
    "ax2=dfcombine.boxplot(column='number_of_sentences',by='author',fontsize=20,figsize=(6,6),grid=False,patch_artist=True,showmeans=True)\n",
    "\n",
    "ax2.set_title('Number of Sentences in papers',fontsize=25)\n",
    "\n",
    "ax2.set_xlabel('Authors',fontsize=20)\n",
    "\n",
    "ax2.set_ylabel('Number of sentences',fontsize=20)\n",
    "\n",
    "ax2.patch.set_facecolor('#FFFFFF')\n",
    "\n",
    "ax2.figure.suptitle(\"\")"
   ]
  },
  {
   "cell_type": "code",
   "execution_count": null,
   "metadata": {
    "collapsed": true
   },
   "outputs": [],
   "source": []
  },
  {
   "cell_type": "code",
   "execution_count": 43,
   "metadata": {},
   "outputs": [
    {
     "name": "stderr",
     "output_type": "stream",
     "text": [
      "C:\\Users\\gandh\\Anaconda3\\lib\\site-packages\\numpy\\core\\fromnumeric.py:52: FutureWarning: reshape is deprecated and will raise in a subsequent release. Please use .values.reshape(...) instead\n",
      "  return getattr(obj, method)(*args, **kwds)\n"
     ]
    },
    {
     "data": {
      "text/plain": [
       "Text(0.5,0.98,'')"
      ]
     },
     "execution_count": 43,
     "metadata": {},
     "output_type": "execute_result"
    },
    {
     "data": {
      "image/png": "[encoded data removed]",
      "text/plain": [
       "<matplotlib.figure.Figure at 0x203a86f1ac8>"
      ]
     },
     "metadata": {},
     "output_type": "display_data"
    }
   ],
   "source": [
    "ax3=dfcombine.boxplot(column='Words_per_sentence_avg',by='author',fontsize=20,figsize=(6,6),grid=False,patch_artist=True,showmeans=True)\n",
    "\n",
    "ax3.set_title('Average length of sentence in words',fontsize=25)\n",
    "\n",
    "ax3.set_xlabel('Authors',fontsize=20)\n",
    "\n",
    "ax3.set_ylabel('Number of Words',fontsize=20)\n",
    "\n",
    "ax3.patch.set_facecolor('#FFFFFF')\n",
    "\n",
    "ax3.figure.suptitle(\"\")"
   ]
  },
  {
   "cell_type": "code",
   "execution_count": null,
   "metadata": {
    "collapsed": true
   },
   "outputs": [],
   "source": []
  },
  {
   "cell_type": "code",
   "execution_count": 44,
   "metadata": {
    "collapsed": true
   },
   "outputs": [],
   "source": [
    "#dfcombine.boxplot(column='total_words',by='author',fontsize=20,figsize=(6,6),grid=False,patch_artist=True,showfliers=False, showmeans=True)"
   ]
  },
  {
   "cell_type": "code",
   "execution_count": 45,
   "metadata": {
    "collapsed": true
   },
   "outputs": [],
   "source": [
    "#newplot=dict(newplot)\n",
    "\n",
    "\n",
    "\n",
    "#newplot['total_words']['boxes'][0].set_color('red')\n",
    "\n",
    "#newplot['total_words']['boxes'][1].set_color('red')\n",
    "\n",
    "\n",
    "\n",
    "#fig,ax=plt.subplots(nrows=2, ncols=2, figsize=(12, 5), sharey=True)\n",
    "\n",
    "#fig"
   ]
  },
  {
   "cell_type": "code",
   "execution_count": 46,
   "metadata": {
    "collapsed": true
   },
   "outputs": [],
   "source": [
    "#bplot1=ax[0][0].boxplot(dfmadison['total_words'],patch_artist=True)\n",
    "#bplot2=ax[0][0].boxplot(dfmadison['Words_per_sentence_avg'],patch_artist=True)\n",
    "#bplot3=ax[0][1].boxplot(dfmadison['number_of_sentences'],patch_artist=True)\n",
    "\n",
    "#bplot4=ax[1][0].boxplot(dfhamilton['total_words'],patch_artist=True)\n",
    "#bplot5=ax[1][0].boxplot(dfhamilton['Words_per_sentence_avg'],patch_artist=True)\n",
    "#bplot6=ax[1][1].boxplot(dfhamilton['number_of_sentences'],patch_artist=True)"
   ]
  },
  {
   "cell_type": "code",
   "execution_count": 47,
   "metadata": {},
   "outputs": [
    {
     "data": {
      "text/plain": [
       "\"colors = ['pink', 'lightblue', 'lightgreen']\\nfor bplot in (bplot1,bplot2,bplot3,bplot4,bplot5,bplot6):\\n    for patch, color in zip(bplot['boxes'], colors):\\n        patch.set_facecolor(color)\""
      ]
     },
     "execution_count": 47,
     "metadata": {},
     "output_type": "execute_result"
    }
   ],
   "source": [
    "\"\"\"colors = ['pink', 'lightblue', 'lightgreen']\n",
    "for bplot in (bplot1,bplot2,bplot3,bplot4,bplot5,bplot6):\n",
    "    for patch, color in zip(bplot['boxes'], colors):\n",
    "        patch.set_facecolor(color)\"\"\""
   ]
  },
  {
   "cell_type": "code",
   "execution_count": 48,
   "metadata": {
    "collapsed": true
   },
   "outputs": [],
   "source": [
    "dfcombine['by_count']=0\n",
    "dfcombine['from_count']=0\n",
    "dfcombine['to_count']=0\n",
    "dfcombine['at_count']=0\n",
    "\n",
    "for i in range(0,len(dfcombine)):\n",
    "    dfcombine['by_count'].iloc[i]=dfcombine['text'].iloc[i].count('by')\n",
    "    dfcombine['at_count'].iloc[i]=dfcombine['text'].iloc[i].count('at')\n",
    "    dfcombine['from_count'].iloc[i]=dfcombine['text'].iloc[i].count('from')\n",
    "    dfcombine['to_count'].iloc[i]=dfcombine['text'].iloc[i].count('to')\n",
    "\n",
    "dfcombine['by_avg']=0\n",
    "dfcombine['from_avg']=0\n",
    "dfcombine['to_avg']=0\n",
    "dfcombine['at_avg']=0\n",
    "\n",
    "\n",
    "for i in range(0,len(dfcombine)):\n",
    "    dfcombine['by_avg'].iloc[i]=(dfcombine['by_count'].iloc[i]/dfcombine['total_words'].iloc[i])*1000\n",
    "    dfcombine['at_avg'].iloc[i]=(dfcombine['at_count'].iloc[i]/dfcombine['total_words'].iloc[i])*1000\n",
    "    dfcombine['from_avg'].iloc[i]=(dfcombine['from_count'].iloc[i]/dfcombine['total_words'].iloc[i])*1000\n",
    "    dfcombine['to_avg'].iloc[i]=(dfcombine['to_count'].iloc[i]/dfcombine['total_words'].iloc[i])*100"
   ]
  },
  {
   "cell_type": "code",
   "execution_count": 49,
   "metadata": {
    "collapsed": true
   },
   "outputs": [],
   "source": [
    "#temp=dfcombine.boxplot(column=['to_count','at_count'])"
   ]
  },
  {
   "cell_type": "code",
   "execution_count": 50,
   "metadata": {},
   "outputs": [
    {
     "name": "stderr",
     "output_type": "stream",
     "text": [
      "C:\\Users\\gandh\\Anaconda3\\lib\\site-packages\\numpy\\core\\fromnumeric.py:52: FutureWarning: reshape is deprecated and will raise in a subsequent release. Please use .values.reshape(...) instead\n",
      "  return getattr(obj, method)(*args, **kwds)\n"
     ]
    },
    {
     "data": {
      "text/plain": [
       "Text(0.5,0.98,'')"
      ]
     },
     "execution_count": 50,
     "metadata": {},
     "output_type": "execute_result"
    },
    {
     "data": {
      "image/png": "[encoded data removed]",
      "text/plain": [
       "<matplotlib.figure.Figure at 0x203a776fac8>"
      ]
     },
     "metadata": {},
     "output_type": "display_data"
    }
   ],
   "source": [
    "ax4=dfcombine.boxplot(column='to_count',by='author',fontsize=20,figsize=(6,6),grid=False,patch_artist=True,showmeans=True)\n",
    "\n",
    "ax4.set_title('to',fontsize=25)\n",
    "ax4.set_xlabel('Words',fontsize=20)\n",
    "\n",
    "ax4.set_ylabel('Count of Words',fontsize=20)\n",
    "\n",
    "ax4.patch.set_facecolor('#FFFFFF')\n",
    "\n",
    "ax4.figure.suptitle(\"\")"
   ]
  },
  {
   "cell_type": "code",
   "execution_count": 51,
   "metadata": {},
   "outputs": [
    {
     "name": "stderr",
     "output_type": "stream",
     "text": [
      "C:\\Users\\gandh\\Anaconda3\\lib\\site-packages\\numpy\\core\\fromnumeric.py:52: FutureWarning: reshape is deprecated and will raise in a subsequent release. Please use .values.reshape(...) instead\n",
      "  return getattr(obj, method)(*args, **kwds)\n"
     ]
    },
    {
     "data": {
      "text/plain": [
       "Text(0.5,0.98,'')"
      ]
     },
     "execution_count": 51,
     "metadata": {},
     "output_type": "execute_result"
    },
    {
     "data": {
      "image/png": "[encoded data removed]",
      "text/plain": [
       "<matplotlib.figure.Figure at 0x203a6a14e80>"
      ]
     },
     "metadata": {},
     "output_type": "display_data"
    }
   ],
   "source": [
    "ax5=dfcombine.boxplot(column='from_count',by='author',fontsize=20,figsize=(6,6),grid=False,patch_artist=True,showmeans=True)\n",
    "\n",
    "ax5.set_title('from',fontsize=25)\n",
    "\n",
    "ax5.set_xlabel('Words',fontsize=20)\n",
    "\n",
    "ax5.set_ylabel('Count of Words',fontsize=20)\n",
    "\n",
    "ax5.patch.set_facecolor('#FFFFFF')\n",
    "\n",
    "ax5.figure.suptitle(\"\")"
   ]
  },
  {
   "cell_type": "code",
   "execution_count": 52,
   "metadata": {},
   "outputs": [
    {
     "name": "stderr",
     "output_type": "stream",
     "text": [
      "C:\\Users\\gandh\\Anaconda3\\lib\\site-packages\\numpy\\core\\fromnumeric.py:52: FutureWarning: reshape is deprecated and will raise in a subsequent release. Please use .values.reshape(...) instead\n",
      "  return getattr(obj, method)(*args, **kwds)\n"
     ]
    },
    {
     "data": {
      "text/plain": [
       "Text(0.5,0.98,'')"
      ]
     },
     "execution_count": 52,
     "metadata": {},
     "output_type": "execute_result"
    },
    {
     "data": {
      "image/png": "[encoded data removed]",
      "text/plain": [
       "<matplotlib.figure.Figure at 0x203a77b0278>"
      ]
     },
     "metadata": {},
     "output_type": "display_data"
    }
   ],
   "source": [
    "ax6=dfcombine.boxplot(column='by_count',by='author',fontsize=20,figsize=(6,6),grid=False,patch_artist=True,showmeans=True)\n",
    "\n",
    "ax6.set_title('by',fontsize=25)\n",
    "\n",
    "ax6.set_xlabel('Words',fontsize=20)\n",
    "\n",
    "ax6.set_ylabel('Count of Words',fontsize=20)\n",
    "\n",
    "ax6.patch.set_facecolor('#FFFFFF')\n",
    "\n",
    "ax6.figure.suptitle(\"\")"
   ]
  },
  {
   "cell_type": "code",
   "execution_count": 53,
   "metadata": {},
   "outputs": [
    {
     "name": "stderr",
     "output_type": "stream",
     "text": [
      "C:\\Users\\gandh\\Anaconda3\\lib\\site-packages\\numpy\\core\\fromnumeric.py:52: FutureWarning: reshape is deprecated and will raise in a subsequent release. Please use .values.reshape(...) instead\n",
      "  return getattr(obj, method)(*args, **kwds)\n"
     ]
    },
    {
     "data": {
      "text/plain": [
       "Text(0.5,0.98,'')"
      ]
     },
     "execution_count": 53,
     "metadata": {},
     "output_type": "execute_result"
    },
    {
     "data": {
      "image/png": "[encoded data removed]",
      "text/plain": [
       "<matplotlib.figure.Figure at 0x203a6b0d3c8>"
      ]
     },
     "metadata": {},
     "output_type": "display_data"
    }
   ],
   "source": [
    "ax7=dfcombine.boxplot(column='at_count',by='author',fontsize=20,figsize=(6,6),grid=False,patch_artist=True,showmeans=True)\n",
    "\n",
    "ax6.set_title('at',fontsize=25)\n",
    "\n",
    "ax7.set_xlabel('Words',fontsize=20)\n",
    "\n",
    "ax7.set_ylabel('Count of Words',fontsize=20)\n",
    "\n",
    "ax7.patch.set_facecolor('#FFFFFF')\n",
    "\n",
    "ax7.figure.suptitle(\"\")"
   ]
  },
  {
   "cell_type": "code",
   "execution_count": 54,
   "metadata": {
    "scrolled": true
   },
   "outputs": [
    {
     "name": "stderr",
     "output_type": "stream",
     "text": [
      "C:\\Users\\gandh\\Anaconda3\\lib\\site-packages\\numpy\\core\\fromnumeric.py:52: FutureWarning: reshape is deprecated and will raise in a subsequent release. Please use .values.reshape(...) instead\n",
      "  return getattr(obj, method)(*args, **kwds)\n"
     ]
    },
    {
     "data": {
      "text/plain": [
       "Text(0.5,0.98,'')"
      ]
     },
     "execution_count": 54,
     "metadata": {},
     "output_type": "execute_result"
    },
    {
     "data": {
      "image/png": "[encoded data removed]",
      "text/plain": [
       "<matplotlib.figure.Figure at 0x203a6a82470>"
      ]
     },
     "metadata": {},
     "output_type": "display_data"
    }
   ],
   "source": [
    "ax8=dfcombine.boxplot(column='by_avg',by='author',fontsize=20,figsize=(6,6),grid=False,patch_artist=True,showmeans=True)\n",
    "\n",
    "ax8.set_title('\"by\" per 1000 words',fontsize=25)\n",
    "\n",
    "ax8.set_xlabel('Usage of \"by\"',fontsize=20)\n",
    "\n",
    "ax8.set_ylabel('Count of Words',fontsize=20)\n",
    "\n",
    "ax8.patch.set_facecolor('#FFFFFF')\n",
    "\n",
    "ax8.figure.suptitle(\"\")\n",
    "#ax8.figure"
   ]
  },
  {
   "cell_type": "code",
   "execution_count": 55,
   "metadata": {},
   "outputs": [
    {
     "name": "stderr",
     "output_type": "stream",
     "text": [
      "C:\\Users\\gandh\\Anaconda3\\lib\\site-packages\\numpy\\core\\fromnumeric.py:52: FutureWarning: reshape is deprecated and will raise in a subsequent release. Please use .values.reshape(...) instead\n",
      "  return getattr(obj, method)(*args, **kwds)\n"
     ]
    },
    {
     "data": {
      "text/plain": [
       "Text(0.5,0.98,'')"
      ]
     },
     "execution_count": 55,
     "metadata": {},
     "output_type": "execute_result"
    },
    {
     "data": {
      "image/png": "[encoded data removed]",
      "text/plain": [
       "<matplotlib.figure.Figure at 0x203a871b898>"
      ]
     },
     "metadata": {},
     "output_type": "display_data"
    }
   ],
   "source": [
    "ax9=dfcombine.boxplot(column='from_avg',by='author',fontsize=20,figsize=(6,6),grid=False,patch_artist=True,showmeans=True)\n",
    "\n",
    "ax9.set_title('\"from\" per 1000 words',fontsize=25)\n",
    "\n",
    "ax9.set_xlabel('Usage of \"from\"',fontsize=20)\n",
    "\n",
    "ax9.set_ylabel('Count of Words',fontsize=20)\n",
    "\n",
    "ax9.patch.set_facecolor('#FFFFFF')\n",
    "\n",
    "ax9.figure.suptitle(\"\")"
   ]
  },
  {
   "cell_type": "code",
   "execution_count": 56,
   "metadata": {},
   "outputs": [
    {
     "name": "stderr",
     "output_type": "stream",
     "text": [
      "C:\\Users\\gandh\\Anaconda3\\lib\\site-packages\\numpy\\core\\fromnumeric.py:52: FutureWarning: reshape is deprecated and will raise in a subsequent release. Please use .values.reshape(...) instead\n",
      "  return getattr(obj, method)(*args, **kwds)\n"
     ]
    },
    {
     "data": {
      "text/plain": [
       "Text(0.5,0.98,'')"
      ]
     },
     "execution_count": 56,
     "metadata": {},
     "output_type": "execute_result"
    },
    {
     "data": {
      "image/png": "[encoded data removed]",
      "text/plain": [
       "<matplotlib.figure.Figure at 0x203a7873320>"
      ]
     },
     "metadata": {},
     "output_type": "display_data"
    }
   ],
   "source": [
    "ax10=dfcombine.boxplot(column='to_avg',by='author',fontsize=20,figsize=(6,6),grid=False,patch_artist=True,showmeans=True)\n",
    "\n",
    "ax10.set_title('\"to\" per 1000 words',fontsize=25)\n",
    "\n",
    "ax10.set_xlabel('Usage of \"to\"',fontsize=20)\n",
    "\n",
    "ax10.set_ylabel('Count of Words',fontsize=20)\n",
    "\n",
    "ax10.patch.set_facecolor('#FFFFFF')\n",
    "\n",
    "ax10.figure.suptitle(\"\")"
   ]
  },
  {
   "cell_type": "code",
   "execution_count": 57,
   "metadata": {},
   "outputs": [
    {
     "name": "stderr",
     "output_type": "stream",
     "text": [
      "C:\\Users\\gandh\\Anaconda3\\lib\\site-packages\\numpy\\core\\fromnumeric.py:52: FutureWarning: reshape is deprecated and will raise in a subsequent release. Please use .values.reshape(...) instead\n",
      "  return getattr(obj, method)(*args, **kwds)\n"
     ]
    },
    {
     "data": {
      "text/plain": [
       "Text(0.5,0.98,'')"
      ]
     },
     "execution_count": 57,
     "metadata": {},
     "output_type": "execute_result"
    },
    {
     "data": {
      "image/png": "[encoded data removed]",
      "text/plain": [
       "<matplotlib.figure.Figure at 0x203a85eec88>"
      ]
     },
     "metadata": {},
     "output_type": "display_data"
    }
   ],
   "source": [
    "ax11=dfcombine.boxplot(column='at_avg',by='author',fontsize=20,figsize=(6,6),grid=False,patch_artist=True,showmeans=True)\n",
    "\n",
    "ax11.set_title('\"at\" per 1000 words',fontsize=25)\n",
    "\n",
    "ax11.set_xlabel('Usage of \"at\"',fontsize=20)\n",
    "\n",
    "ax11.set_ylabel('Count of Words',fontsize=20)\n",
    "\n",
    "ax11.patch.set_facecolor('#FFFFFF')\n",
    "\n",
    "ax11.figure.suptitle(\"\")"
   ]
  },
  {
   "cell_type": "code",
   "execution_count": 58,
   "metadata": {
    "collapsed": true
   },
   "outputs": [],
   "source": [
    "dfcombine=dfcombine.drop('wordcount',axis=1)"
   ]
  },
  {
   "cell_type": "code",
   "execution_count": 59,
   "metadata": {
    "collapsed": true
   },
   "outputs": [],
   "source": [
    "#dfcombine"
   ]
  },
  {
   "cell_type": "code",
   "execution_count": 60,
   "metadata": {},
   "outputs": [
    {
     "name": "stderr",
     "output_type": "stream",
     "text": [
      "C:\\Users\\gandh\\Anaconda3\\lib\\site-packages\\sklearn\\cross_validation.py:41: DeprecationWarning: This module was deprecated in version 0.18 in favor of the model_selection module into which all the refactored classes and functions are moved. Also note that the interface of the new CV iterators are different from that of this module. This module will be removed in 0.20.\n",
      "  \"This module will be removed in 0.20.\", DeprecationWarning)\n"
     ]
    }
   ],
   "source": [
    "from sklearn import linear_model\n",
    "from sklearn import metrics\n",
    "from sklearn.cross_validation import train_test_split\n",
    "from sklearn import preprocessing\n",
    "from sklearn.metrics import confusion_matrix"
   ]
  },
  {
   "cell_type": "code",
   "execution_count": 61,
   "metadata": {
    "collapsed": true
   },
   "outputs": [],
   "source": [
    "le = preprocessing.LabelEncoder()\n",
    "le.fit(list(dfcombine['author'].unique()))\n",
    "list(le.classes_)\n",
    "dfcombine['author']=le.transform(dfcombine.author.tolist())"
   ]
  },
  {
   "cell_type": "code",
   "execution_count": 62,
   "metadata": {
    "collapsed": true
   },
   "outputs": [],
   "source": [
    "#dfcombine"
   ]
  },
  {
   "cell_type": "code",
   "execution_count": 63,
   "metadata": {
    "collapsed": true
   },
   "outputs": [],
   "source": [
    "dffinal=df.drop(['date','title','venue','wordcount'],axis=1)"
   ]
  },
  {
   "cell_type": "code",
   "execution_count": 64,
   "metadata": {
    "collapsed": true
   },
   "outputs": [],
   "source": [
    "train=dfcombine.iloc[:,6:16]\n",
    "test=dfcombine.iloc[:,4]"
   ]
  },
  {
   "cell_type": "code",
   "execution_count": 65,
   "metadata": {
    "collapsed": true
   },
   "outputs": [],
   "source": [
    "#TRAIN AND TEST SPLIT FOR X & y RESPECTIVELY\n",
    "train_x, test_x, train_y, test_y = train_test_split(train,test,train_size=0.8)"
   ]
  },
  {
   "cell_type": "code",
   "execution_count": 66,
   "metadata": {},
   "outputs": [
    {
     "data": {
      "text/plain": [
       "LogisticRegression(C=1.0, class_weight=None, dual=False, fit_intercept=True,\n",
       "          intercept_scaling=1, max_iter=100, multi_class='ovr', n_jobs=1,\n",
       "          penalty='l2', random_state=None, solver='liblinear', tol=0.0001,\n",
       "          verbose=0, warm_start=False)"
      ]
     },
     "execution_count": 66,
     "metadata": {},
     "output_type": "execute_result"
    }
   ],
   "source": [
    "#EXECUTING SIMPLE LINEAR LOGISTIC REGRESSION\n",
    "lr = linear_model.LogisticRegression()\n",
    "lr.fit(train_x, train_y)"
   ]
  },
  {
   "cell_type": "code",
   "execution_count": 67,
   "metadata": {},
   "outputs": [
    {
     "name": "stdout",
     "output_type": "stream",
     "text": [
      "Logistic regression Train Accuracy ::  1.0\n"
     ]
    }
   ],
   "source": [
    "print(\"Logistic regression Train Accuracy :: \", metrics.accuracy_score(train_y, lr.predict(train_x)))"
   ]
  },
  {
   "cell_type": "code",
   "execution_count": 68,
   "metadata": {},
   "outputs": [
    {
     "data": {
      "text/plain": [
       "array([[9, 1],\n",
       "       [1, 3]], dtype=int64)"
      ]
     },
     "execution_count": 68,
     "metadata": {},
     "output_type": "execute_result"
    }
   ],
   "source": [
    "confusion_matrix(test_y,lr.predict(test_x),labels=[0,1])"
   ]
  },
  {
   "cell_type": "code",
   "execution_count": 69,
   "metadata": {
    "collapsed": true
   },
   "outputs": [],
   "source": [
    "td=df[df['author']=='HAMILTON OR MADISON']"
   ]
  },
  {
   "cell_type": "code",
   "execution_count": 70,
   "metadata": {
    "collapsed": true
   },
   "outputs": [],
   "source": [
    "td['number_of_sentences']=0\n",
    "td['Words_per_sentence_avg']=0\n",
    "td['by_count']=0\n",
    "td['from_count']=0\n",
    "td['to_count']=0\n",
    "td['at_count']=0\n",
    "td['by_avg']=0\n",
    "td['from_avg']=0\n",
    "td['to_avg']=0\n",
    "td['at_avg']=0\n",
    "\n",
    "for i in range(0,len(td)):\n",
    "    td['number_of_sentences'].iloc[i]=len(td['text'].iloc[i].split(\".\"))\n",
    "    td['Words_per_sentence_avg'].iloc[i]=td['total_words'].iloc[i]/td['number_of_sentences'].iloc[i]\n",
    "    td['by_count'].iloc[i]=td['text'].iloc[i].count('by')\n",
    "    td['at_count'].iloc[i]=td['text'].iloc[i].count('at')\n",
    "    td['from_count'].iloc[i]=td['text'].iloc[i].count('from')\n",
    "    td['to_count'].iloc[i]=td['text'].iloc[i].count('to')\n",
    "    td['by_avg'].iloc[i]=(td['by_count'].iloc[i]/td['total_words'].iloc[i])*1000\n",
    "    td['at_avg'].iloc[i]=(td['at_count'].iloc[i]/td['total_words'].iloc[i])*1000\n",
    "    td['from_avg'].iloc[i]=(td['from_count'].iloc[i]/td['total_words'].iloc[i])*1000\n",
    "    td['to_avg'].iloc[i]=(td['to_count'].iloc[i]/td['total_words'].iloc[i])*100\n",
    "    "
   ]
  },
  {
   "cell_type": "code",
   "execution_count": 71,
   "metadata": {
    "collapsed": true
   },
   "outputs": [],
   "source": [
    "td=td.drop('wordcount',axis=1)"
   ]
  },
  {
   "cell_type": "code",
   "execution_count": 72,
   "metadata": {
    "collapsed": true
   },
   "outputs": [],
   "source": [
    "test_x=td.iloc[:,6:16]"
   ]
  },
  {
   "cell_type": "code",
   "execution_count": 73,
   "metadata": {
    "collapsed": true
   },
   "outputs": [],
   "source": [
    "predictions=lr.predict(test_x)"
   ]
  },
  {
   "cell_type": "code",
   "execution_count": 74,
   "metadata": {},
   "outputs": [
    {
     "data": {
      "text/plain": [
       "array([0, 0, 1, 0, 1, 0, 0, 0, 0, 0, 1], dtype=int64)"
      ]
     },
     "execution_count": 74,
     "metadata": {},
     "output_type": "execute_result"
    }
   ],
   "source": [
    "predictions"
   ]
  },
  {
   "cell_type": "code",
   "execution_count": 75,
   "metadata": {},
   "outputs": [
    {
     "data": {
      "text/html": [
       "<div>\n",
       "<style>\n",
       "    .dataframe thead tr:only-child th {\n",
       "        text-align: right;\n",
       "    }\n",
       "\n",
       "    .dataframe thead th {\n",
       "        text-align: left;\n",
       "    }\n",
       "\n",
       "    .dataframe tbody tr th {\n",
       "        vertical-align: top;\n",
       "    }\n",
       "</style>\n",
       "<table border=\"1\" class=\"dataframe\">\n",
       "  <thead>\n",
       "    <tr style=\"text-align: right;\">\n",
       "      <th></th>\n",
       "      <th>total_words</th>\n",
       "      <th>number_of_sentences</th>\n",
       "      <th>Words_per_sentence_avg</th>\n",
       "      <th>by_count</th>\n",
       "      <th>from_count</th>\n",
       "      <th>to_count</th>\n",
       "      <th>at_count</th>\n",
       "      <th>by_avg</th>\n",
       "      <th>from_avg</th>\n",
       "      <th>to_avg</th>\n",
       "    </tr>\n",
       "  </thead>\n",
       "  <tbody>\n",
       "    <tr>\n",
       "      <th>48</th>\n",
       "      <td>1656.0</td>\n",
       "      <td>58</td>\n",
       "      <td>28.551724</td>\n",
       "      <td>15</td>\n",
       "      <td>5</td>\n",
       "      <td>66</td>\n",
       "      <td>82</td>\n",
       "      <td>9.057971</td>\n",
       "      <td>3.019324</td>\n",
       "      <td>3.985507</td>\n",
       "    </tr>\n",
       "    <tr>\n",
       "      <th>49</th>\n",
       "      <td>1113.0</td>\n",
       "      <td>41</td>\n",
       "      <td>27.146341</td>\n",
       "      <td>11</td>\n",
       "      <td>8</td>\n",
       "      <td>33</td>\n",
       "      <td>61</td>\n",
       "      <td>9.883199</td>\n",
       "      <td>7.187781</td>\n",
       "      <td>2.964960</td>\n",
       "    </tr>\n",
       "    <tr>\n",
       "      <th>50</th>\n",
       "      <td>1922.0</td>\n",
       "      <td>60</td>\n",
       "      <td>32.033333</td>\n",
       "      <td>23</td>\n",
       "      <td>7</td>\n",
       "      <td>59</td>\n",
       "      <td>103</td>\n",
       "      <td>11.966701</td>\n",
       "      <td>3.642040</td>\n",
       "      <td>3.069719</td>\n",
       "    </tr>\n",
       "    <tr>\n",
       "      <th>51</th>\n",
       "      <td>1853.0</td>\n",
       "      <td>63</td>\n",
       "      <td>29.412698</td>\n",
       "      <td>22</td>\n",
       "      <td>12</td>\n",
       "      <td>83</td>\n",
       "      <td>124</td>\n",
       "      <td>11.872639</td>\n",
       "      <td>6.475985</td>\n",
       "      <td>4.479223</td>\n",
       "    </tr>\n",
       "    <tr>\n",
       "      <th>52</th>\n",
       "      <td>2181.0</td>\n",
       "      <td>61</td>\n",
       "      <td>35.754098</td>\n",
       "      <td>31</td>\n",
       "      <td>11</td>\n",
       "      <td>82</td>\n",
       "      <td>168</td>\n",
       "      <td>14.213663</td>\n",
       "      <td>5.043558</td>\n",
       "      <td>3.759743</td>\n",
       "    </tr>\n",
       "    <tr>\n",
       "      <th>53</th>\n",
       "      <td>2009.0</td>\n",
       "      <td>60</td>\n",
       "      <td>33.483333</td>\n",
       "      <td>26</td>\n",
       "      <td>13</td>\n",
       "      <td>74</td>\n",
       "      <td>153</td>\n",
       "      <td>12.941762</td>\n",
       "      <td>6.470881</td>\n",
       "      <td>3.683425</td>\n",
       "    </tr>\n",
       "    <tr>\n",
       "      <th>54</th>\n",
       "      <td>2051.0</td>\n",
       "      <td>55</td>\n",
       "      <td>37.290909</td>\n",
       "      <td>14</td>\n",
       "      <td>12</td>\n",
       "      <td>81</td>\n",
       "      <td>156</td>\n",
       "      <td>6.825939</td>\n",
       "      <td>5.850804</td>\n",
       "      <td>3.949293</td>\n",
       "    </tr>\n",
       "    <tr>\n",
       "      <th>55</th>\n",
       "      <td>1578.0</td>\n",
       "      <td>48</td>\n",
       "      <td>32.875000</td>\n",
       "      <td>10</td>\n",
       "      <td>9</td>\n",
       "      <td>49</td>\n",
       "      <td>141</td>\n",
       "      <td>6.337136</td>\n",
       "      <td>5.703422</td>\n",
       "      <td>3.105196</td>\n",
       "    </tr>\n",
       "    <tr>\n",
       "      <th>56</th>\n",
       "      <td>2214.0</td>\n",
       "      <td>63</td>\n",
       "      <td>35.142857</td>\n",
       "      <td>25</td>\n",
       "      <td>11</td>\n",
       "      <td>93</td>\n",
       "      <td>158</td>\n",
       "      <td>11.291780</td>\n",
       "      <td>4.968383</td>\n",
       "      <td>4.200542</td>\n",
       "    </tr>\n",
       "    <tr>\n",
       "      <th>61</th>\n",
       "      <td>2392.0</td>\n",
       "      <td>82</td>\n",
       "      <td>29.170732</td>\n",
       "      <td>28</td>\n",
       "      <td>21</td>\n",
       "      <td>107</td>\n",
       "      <td>171</td>\n",
       "      <td>11.705686</td>\n",
       "      <td>8.779264</td>\n",
       "      <td>4.473244</td>\n",
       "    </tr>\n",
       "    <tr>\n",
       "      <th>62</th>\n",
       "      <td>3044.0</td>\n",
       "      <td>83</td>\n",
       "      <td>36.674699</td>\n",
       "      <td>51</td>\n",
       "      <td>16</td>\n",
       "      <td>107</td>\n",
       "      <td>212</td>\n",
       "      <td>16.754271</td>\n",
       "      <td>5.256242</td>\n",
       "      <td>3.515112</td>\n",
       "    </tr>\n",
       "  </tbody>\n",
       "</table>\n",
       "</div>"
      ],
      "text/plain": [
       "    total_words  number_of_sentences  Words_per_sentence_avg  by_count  \\\n",
       "48       1656.0                   58               28.551724        15   \n",
       "49       1113.0                   41               27.146341        11   \n",
       "50       1922.0                   60               32.033333        23   \n",
       "51       1853.0                   63               29.412698        22   \n",
       "52       2181.0                   61               35.754098        31   \n",
       "53       2009.0                   60               33.483333        26   \n",
       "54       2051.0                   55               37.290909        14   \n",
       "55       1578.0                   48               32.875000        10   \n",
       "56       2214.0                   63               35.142857        25   \n",
       "61       2392.0                   82               29.170732        28   \n",
       "62       3044.0                   83               36.674699        51   \n",
       "\n",
       "    from_count  to_count  at_count     by_avg  from_avg    to_avg  \n",
       "48           5        66        82   9.057971  3.019324  3.985507  \n",
       "49           8        33        61   9.883199  7.187781  2.964960  \n",
       "50           7        59       103  11.966701  3.642040  3.069719  \n",
       "51          12        83       124  11.872639  6.475985  4.479223  \n",
       "52          11        82       168  14.213663  5.043558  3.759743  \n",
       "53          13        74       153  12.941762  6.470881  3.683425  \n",
       "54          12        81       156   6.825939  5.850804  3.949293  \n",
       "55           9        49       141   6.337136  5.703422  3.105196  \n",
       "56          11        93       158  11.291780  4.968383  4.200542  \n",
       "61          21       107       171  11.705686  8.779264  4.473244  \n",
       "62          16       107       212  16.754271  5.256242  3.515112  "
      ]
     },
     "execution_count": 75,
     "metadata": {},
     "output_type": "execute_result"
    }
   ],
   "source": [
    "test_x"
   ]
  },
  {
   "cell_type": "code",
   "execution_count": 76,
   "metadata": {
    "collapsed": true
   },
   "outputs": [],
   "source": [
    "# Import the model we are using\n",
    "from sklearn.ensemble import RandomForestRegressor\n",
    "# Instantiate model with 1000 decision trees\n",
    "rf = RandomForestRegressor(n_estimators = 1000, random_state = 42)\n",
    "# Train the model on training data\n",
    "rf.fit(train_x, train_y);"
   ]
  },
  {
   "cell_type": "code",
   "execution_count": 77,
   "metadata": {
    "collapsed": true
   },
   "outputs": [],
   "source": [
    "predictions = rf.predict(test_x)"
   ]
  },
  {
   "cell_type": "code",
   "execution_count": 78,
   "metadata": {},
   "outputs": [
    {
     "data": {
      "text/plain": [
       "array([0.482, 0.422, 0.667, 0.077, 0.934, 0.612, 0.574, 0.45 , 0.314,\n",
       "       0.126, 0.927])"
      ]
     },
     "execution_count": 78,
     "metadata": {},
     "output_type": "execute_result"
    }
   ],
   "source": [
    "predictions"
   ]
  },
  {
   "cell_type": "code",
   "execution_count": 79,
   "metadata": {
    "collapsed": true
   },
   "outputs": [],
   "source": [
    "#df2=pd.DataFrame(predictions)\n",
    "#df2[df2[0]>0.5]=1\n",
    "#df2[df2[0]<=0.5]=0"
   ]
  },
  {
   "cell_type": "code",
   "execution_count": 80,
   "metadata": {
    "collapsed": true
   },
   "outputs": [],
   "source": [
    "ham=list(dfhamilton['text'])"
   ]
  },
  {
   "cell_type": "code",
   "execution_count": 81,
   "metadata": {
    "collapsed": true
   },
   "outputs": [],
   "source": [
    "mad=list(dfmadison['text'])"
   ]
  },
  {
   "cell_type": "code",
   "execution_count": 82,
   "metadata": {
    "collapsed": true
   },
   "outputs": [],
   "source": [
    "tempham=[]\n",
    "tempmad=[]"
   ]
  },
  {
   "cell_type": "code",
   "execution_count": 83,
   "metadata": {
    "collapsed": true
   },
   "outputs": [],
   "source": [
    "for i in range(0,len(ham)):\n",
    "    tempham=tempham+ham[i].split()"
   ]
  },
  {
   "cell_type": "code",
   "execution_count": 84,
   "metadata": {
    "collapsed": true
   },
   "outputs": [],
   "source": [
    "for i in range(0,len(mad)):\n",
    "    tempmad=tempmad+mad[i].split()"
   ]
  },
  {
   "cell_type": "code",
   "execution_count": null,
   "metadata": {
    "collapsed": true
   },
   "outputs": [],
   "source": []
  },
  {
   "cell_type": "code",
   "execution_count": 85,
   "metadata": {
    "collapsed": true
   },
   "outputs": [],
   "source": [
    "A=set(tempham) | set(tempmad)\n",
    "B=set(tempham) & set(tempmad)\n"
   ]
  },
  {
   "cell_type": "code",
   "execution_count": 86,
   "metadata": {
    "collapsed": true
   },
   "outputs": [],
   "source": [
    "finlist=list(A-B-B)\n",
    "for i in range(0,len(finlist)):\n",
    "    finlist[i]=finlist[i].replace(\".\",\"\")"
   ]
  },
  {
   "cell_type": "code",
   "execution_count": 87,
   "metadata": {
    "collapsed": true
   },
   "outputs": [],
   "source": [
    "for i in range(0,len(finlist)):\n",
    "    dfcombine[finlist[i]+'_count']=0"
   ]
  },
  {
   "cell_type": "code",
   "execution_count": 88,
   "metadata": {
    "collapsed": true
   },
   "outputs": [],
   "source": [
    "for i in range(0,len(dfcombine)):\n",
    "    for j in range(0,len(finlist)):\n",
    "        temp=dfcombine['text'].iloc[i].count(finlist[j])\n",
    "        dfcombine[finlist[j]+'_count'].iloc[i]=temp"
   ]
  },
  {
   "cell_type": "code",
   "execution_count": 89,
   "metadata": {
    "collapsed": true
   },
   "outputs": [],
   "source": [
    "train=dfcombine.iloc[:,6:]\n",
    "test=dfcombine.iloc[:,4]"
   ]
  },
  {
   "cell_type": "code",
   "execution_count": 90,
   "metadata": {
    "collapsed": true
   },
   "outputs": [],
   "source": [
    "#TRAIN AND TEST SPLIT FOR X & y RESPECTIVELY\n",
    "train_x, test_x, train_y, test_y = train_test_split(train,test,train_size=0.8)"
   ]
  },
  {
   "cell_type": "code",
   "execution_count": 91,
   "metadata": {},
   "outputs": [
    {
     "data": {
      "text/plain": [
       "LogisticRegression(C=1.0, class_weight=None, dual=False, fit_intercept=True,\n",
       "          intercept_scaling=1, max_iter=100, multi_class='ovr', n_jobs=1,\n",
       "          penalty='l2', random_state=None, solver='liblinear', tol=0.0001,\n",
       "          verbose=0, warm_start=False)"
      ]
     },
     "execution_count": 91,
     "metadata": {},
     "output_type": "execute_result"
    }
   ],
   "source": [
    "#EXECUTING SIMPLE LINEAR LOGISTIC REGRESSION\n",
    "lr = linear_model.LogisticRegression()\n",
    "lr.fit(train_x, train_y)"
   ]
  },
  {
   "cell_type": "code",
   "execution_count": 92,
   "metadata": {},
   "outputs": [
    {
     "name": "stdout",
     "output_type": "stream",
     "text": [
      "Logistic regression Train Accuracy ::  1.0\n"
     ]
    }
   ],
   "source": [
    "print(\"Logistic regression Train Accuracy :: \", metrics.accuracy_score(train_y, lr.predict(train_x)))"
   ]
  },
  {
   "cell_type": "code",
   "execution_count": 93,
   "metadata": {},
   "outputs": [
    {
     "data": {
      "text/plain": [
       "array([[9, 1],\n",
       "       [0, 4]], dtype=int64)"
      ]
     },
     "execution_count": 93,
     "metadata": {},
     "output_type": "execute_result"
    }
   ],
   "source": [
    "confusion_matrix(test_y,lr.predict(test_x),labels=[0,1])"
   ]
  },
  {
   "cell_type": "code",
   "execution_count": 94,
   "metadata": {
    "collapsed": true
   },
   "outputs": [],
   "source": [
    "td1=df[df['author']=='HAMILTON OR MADISON']"
   ]
  },
  {
   "cell_type": "code",
   "execution_count": 95,
   "metadata": {
    "collapsed": true
   },
   "outputs": [],
   "source": [
    "td1=td1.drop('wordcount',axis=1)"
   ]
  },
  {
   "cell_type": "code",
   "execution_count": 96,
   "metadata": {
    "collapsed": true
   },
   "outputs": [],
   "source": [
    "td1['number_of_sentences']=0\n",
    "td1['Words_per_sentence_avg']=0\n",
    "td1['by_count']=0\n",
    "td1['from_count']=0\n",
    "td1['to_count']=0\n",
    "td1['at_count']=0\n",
    "td1['by_avg']=0\n",
    "td1['from_avg']=0\n",
    "td1['to_avg']=0\n",
    "td1['at_avg']=0\n",
    "\n",
    "for i in range(0,len(td1)):\n",
    "    td1['number_of_sentences'].iloc[i]=len(td1['text'].iloc[i].split(\".\"))\n",
    "    td1['Words_per_sentence_avg'].iloc[i]=td1['total_words'].iloc[i]/td1['number_of_sentences'].iloc[i]\n",
    "    td1['by_count'].iloc[i]=td1['text'].iloc[i].count('by')\n",
    "    td1['at_count'].iloc[i]=td1['text'].iloc[i].count('at')\n",
    "    td1['from_count'].iloc[i]=td1['text'].iloc[i].count('from')\n",
    "    td1['to_count'].iloc[i]=td1['text'].iloc[i].count('to')\n",
    "    td1['by_avg'].iloc[i]=(td1['by_count'].iloc[i]/td1['total_words'].iloc[i])*1000\n",
    "    td1['at_avg'].iloc[i]=(td1['at_count'].iloc[i]/td1['total_words'].iloc[i])*1000\n",
    "    td1['from_avg'].iloc[i]=(td1['from_count'].iloc[i]/td1['total_words'].iloc[i])*1000\n",
    "    td1['to_avg'].iloc[i]=(td1['to_count'].iloc[i]/td1['total_words'].iloc[i])*100"
   ]
  },
  {
   "cell_type": "code",
   "execution_count": 97,
   "metadata": {
    "collapsed": true
   },
   "outputs": [],
   "source": [
    "for i in range(0,len(finlist)):\n",
    "    td1[finlist[i]+'_count']=0"
   ]
  },
  {
   "cell_type": "code",
   "execution_count": 98,
   "metadata": {
    "collapsed": true
   },
   "outputs": [],
   "source": [
    "for i in range(0,len(td1)):\n",
    "    for j in range(0,len(finlist)):\n",
    "        temp=td1['text'].iloc[i].count(finlist[j])\n",
    "        td1[finlist[j]+'_count'].iloc[i]=temp"
   ]
  },
  {
   "cell_type": "code",
   "execution_count": 99,
   "metadata": {
    "collapsed": true
   },
   "outputs": [],
   "source": [
    "test_x=td1.iloc[:,6:]"
   ]
  },
  {
   "cell_type": "code",
   "execution_count": 100,
   "metadata": {
    "collapsed": true
   },
   "outputs": [],
   "source": [
    "predictions=lr.predict(test_x)"
   ]
  },
  {
   "cell_type": "code",
   "execution_count": 101,
   "metadata": {},
   "outputs": [
    {
     "data": {
      "text/plain": [
       "array([0, 1, 1, 1, 1, 1, 1, 1, 1, 0, 1], dtype=int64)"
      ]
     },
     "execution_count": 101,
     "metadata": {},
     "output_type": "execute_result"
    }
   ],
   "source": [
    "predictions"
   ]
  },
  {
   "cell_type": "code",
   "execution_count": null,
   "metadata": {
    "collapsed": true
   },
   "outputs": [],
   "source": []
  },
  {
   "cell_type": "code",
   "execution_count": 161,
   "metadata": {
    "collapsed": true
   },
   "outputs": [],
   "source": [
    "import framequery as fq"
   ]
  },
  {
   "cell_type": "code",
   "execution_count": 198,
   "metadata": {},
   "outputs": [
    {
     "data": {
      "text/plain": [
       "'to the people of the state of new york when the people of america reflect that they are now called upon to decide a question which in its consequences must prove one of the most important that ever engaged their attention the propriety of their taking a very comprehensive as well as a very serious view of it will be evident nothing is more certain than the indispensable necessity of government and it is equally undeniable that whenever and however it is instituted the people must cede to it some of their natural rights in order to vest it with requisite powers it is well worthy of consideration therefore whether it would conduce more to the interest of the people of america that they should to all general purposes be one nation under one federal government or that they should divide themselves into separate confederacies and give to the head of each the same kind of powers which they are advised to place in one national government it has until lately been a received and uncontradicted opinion that the prosperity of the people of america depended on their continuing firmly united and the wishes prayers and efforts of our best and wisest citizens have been constantly directed to that object but politicians now appear who insist that this opinion is erroneous and that instead of looking for safety and happiness in union we ought to seek it in a division of the states into distinct confederacies or sovereignties however extraordinary this new doctrine may appear it nevertheless has its advocates and certain characters who were much opposed to it formerly are at present of the number whatever may be the arguments or inducements which have wrought this change in the sentiments and declarations of these gentlemen it certainly would not be wise in the people at large to adopt these new political tenets without being fully convinced that they are founded in truth and sound policy it has often given me pleasure to observe that independent america was not composed of detached and distant territories but that one connected fertile widespreading country was the portion of our western sons of liberty providence has in a particular manner blessed it with a variety of soils and productions and watered it with innumerable streams for the delight and accommodation of its inhabitants a succession of navigable waters forms a kind of chain round its borders as if to bind it together while the most noble rivers in the world running at convenient distances present them with highways for the easy communication of friendly aids and the mutual transportation and exchange of their various commodities with equal pleasure i have as often taken notice that providence has been pleased to give this one connected country to one united people--a people descended from the same ancestors speaking the same language professing the same religion attached to the same principles of government very similar in their manners and customs and who by their joint counsels arms and efforts fighting side by side throughout a long and bloody war have nobly established general liberty and independence this country and this people seem to have been made for each other and it appears as if it was the design of providence that an inheritance so proper and convenient for a band of brethren united to each other by the strongest ties should never be split into a number of unsocial jealous and alien sovereignties similar sentiments have hitherto prevailed among all orders and denominations of men among us to all general purposes we have uniformly been one people each individual citizen everywhere enjoying the same national rights privileges and protection as a nation we have made peace and war as a nation we have vanquished our common enemies as a nation we have formed alliances and made treaties and entered into various compacts and conventions with foreign states a strong sense of the value and blessings of union induced the people at a very early period to institute a federal government to preserve and perpetuate it they formed it almost as soon as they had a political existence nay at a time when their habitations were in flames when many of their citizens were bleeding and when the progress of hostility and desolation left little room for those calm and mature inquiries and reflections which must ever precede the formation of a wise and wellbalanced government for a free people it is not to be wondered at that a government instituted in times so inauspicious should on experiment be found greatly deficient and inadequate to the purpose it was intended to answer this intelligent people perceived and regretted these defects still continuing no less attached to union than enamored of liberty they observed the danger which immediately threatened the former and more remotely the latter and being pursuaded that ample security for both could only be found in a national government more wisely framed they as with one voice convened the late convention at philadelphia to take that important subject under consideration this convention composed of men who possessed the confidence of the people and many of whom had become highly distinguished by their patriotism virtue and wisdom in times which tried the minds and hearts of men undertook the arduous task in the mild season of peace with minds unoccupied by other subjects they passed many months in cool uninterrupted and daily consultation and finally without having been awed by power or influenced by any passions except love for their country they presented and recommended to the people the plan produced by their joint and very unanimous councils admit for so is the fact that this plan is only recommended not imposed yet let it be remembered that it is neither recommended to blind approbation nor to blind reprobation but to that sedate and candid consideration which the magnitude and importance of the subject demand and which it certainly ought to receive but this (as was remarked in the foregoing number of this paper) is more to be wished than expected that it may be so considered and examined experience on a former occasion teaches us not to be too sanguine in such hopes it is not yet forgotten that well-grounded apprehensions of imminent danger induced the people of america to form the memorable congress of 1774 that body recommended certain measures to their constituents and the event proved their wisdom yet it is fresh in our memories how soon the press began to teem with pamphlets and weekly papers against those very measures not only many of the officers of government who obeyed the dictates of personal interest but others from a mistaken estimate of consequences or the undue influence of former attachments or whose ambition aimed at objects which did not correspond with the public good were indefatigable in their efforts to pursuade the people to reject the advice of that patriotic congress many indeed were deceived and deluded but the great majority of the people reasoned and decided judiciously and happy they are in reflecting that they did so they considered that the congress was composed of many wise and experienced men that being convened from different parts of the country they brought with them and communicated to each other a variety of useful information that in the course of the time they passed together in inquiring into and discussing the true interests of their country they must have acquired very accurate knowledge on that head that they were individually interested in the public liberty and prosperity and therefore that it was not less their inclination than their duty to recommend only such measures as after the most mature deliberation they really thought prudent and advisable these and similar considerations then induced the people to rely greatly on the judgment and integrity of the congress and they took their advice notwithstanding the various arts and endeavors used to deter them from it but if the people at large had reason to confide in the men of that congress few of whom had been fully tried or generally known still greater reason have they now to respect the judgment and advice of the convention for it is well known that some of the most distinguished members of that congress who have been since tried and justly approved for patriotism and abilities and who have grown old in acquiring political information were also members of this convention and carried into it their accumulated knowledge and experience it is worthy of remark that not only the first but every succeeding congress as well as the late convention have invariably joined with the people in thinking that the prosperity of america depended on its union to preserve and perpetuate it was the great object of the people in forming that convention and it is also the great object of the plan which the convention has advised them to adopt with what propriety therefore or for what good purposes are attempts at this particular period made by some men to depreciate the importance of the union or why is it suggested that three or four confederacies would be better than one i am persuaded in my own mind that the people have always thought right on this subject and that their universal and uniform attachment to the cause of the union rests on great and weighty reasons which i shall endeavor to develop and explain in some ensuing papers they who promote the idea of substituting a number of distinct confederacies in the room of the plan of the convention seem clearly to foresee that the rejection of it would put the continuance of the union in the utmost jeopardy that certainly would be the case and i sincerely wish that it may be as clearly foreseen by every good citizen that whenever the dissolution of the union arrives america will have reason to exclaim in the words of the poet farewell a long farewell to all my greatness  publius '"
      ]
     },
     "execution_count": 198,
     "metadata": {},
     "output_type": "execute_result"
    }
   ],
   "source": []
  },
  {
   "cell_type": "code",
   "execution_count": null,
   "metadata": {
    "collapsed": true
   },
   "outputs": [],
   "source": []
  }
 ],
 "metadata": {
  "kernelspec": {
   "display_name": "Python 3",
   "language": "python",
   "name": "python3"
  },
  "language_info": {
   "codemirror_mode": {
    "name": "ipython",
    "version": 3
   },
   "file_extension": ".py",
   "mimetype": "text/x-python",
   "name": "python",
   "nbconvert_exporter": "python",
   "pygments_lexer": "ipython3",
   "version": "3.6.3"
  }
 },
 "nbformat": 4,
 "nbformat_minor": 2
}
